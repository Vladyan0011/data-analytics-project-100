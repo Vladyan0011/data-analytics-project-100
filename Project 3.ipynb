{
 "cells": [
  {
   "cell_type": "markdown",
   "id": "d19f6a0c-8528-4ef4-ad68-4c6b9d8bbc42",
   "metadata": {},
   "source": [
    "# Проект 3 Дашборд конверсий"
   ]
  },
  {
   "cell_type": "markdown",
   "id": "250b9d3d-5b2d-4332-9fd7-2582b9af7c4e",
   "metadata": {},
   "source": [
    "## Шаг 1."
   ]
  },
  {
   "cell_type": "markdown",
   "id": "19185606-e81d-47d0-bc3d-76c14e1a6c96",
   "metadata": {},
   "source": [
    "### Импорты "
   ]
  },
  {
   "cell_type": "code",
   "execution_count": 8,
   "id": "85d9e293-2bd1-44d1-a203-fdf637d99bcd",
   "metadata": {},
   "outputs": [],
   "source": [
    "import pandas as pd\n",
    "import requests"
   ]
  },
  {
   "cell_type": "markdown",
   "id": "907e6af3-a1b8-445f-ad46-f0cb098eb41c",
   "metadata": {},
   "source": [
    "#### Загрузка тестовых данных"
   ]
  },
  {
   "cell_type": "code",
   "execution_count": 14,
   "id": "8083870e-97e3-4f1d-8866-1d3273341b2a",
   "metadata": {},
   "outputs": [
    {
     "data": {
      "text/html": [
       "<div>\n",
       "<style scoped>\n",
       "    .dataframe tbody tr th:only-of-type {\n",
       "        vertical-align: middle;\n",
       "    }\n",
       "\n",
       "    .dataframe tbody tr th {\n",
       "        vertical-align: top;\n",
       "    }\n",
       "\n",
       "    .dataframe thead th {\n",
       "        text-align: right;\n",
       "    }\n",
       "</style>\n",
       "<table border=\"1\" class=\"dataframe\">\n",
       "  <thead>\n",
       "    <tr style=\"text-align: right;\">\n",
       "      <th></th>\n",
       "      <th>uuid</th>\n",
       "      <th>platform</th>\n",
       "      <th>user_agent</th>\n",
       "      <th>date</th>\n",
       "    </tr>\n",
       "  </thead>\n",
       "  <tbody>\n",
       "    <tr>\n",
       "      <th>0</th>\n",
       "      <td>1de9ea66-70d3-4a1f-8735-df5ef7697fb9</td>\n",
       "      <td>web</td>\n",
       "      <td>Mozilla/5.0 (Macintosh; Intel Mac OS X 10_11_2...</td>\n",
       "      <td>2023-03-01T13:29:22</td>\n",
       "    </tr>\n",
       "    <tr>\n",
       "      <th>1</th>\n",
       "      <td>f149f542-e935-4870-9734-6b4501eaf614</td>\n",
       "      <td>web</td>\n",
       "      <td>Mozilla/5.0 (X11; CrOS x86_64 8172.45.0) Apple...</td>\n",
       "      <td>2023-03-01T16:44:28</td>\n",
       "    </tr>\n",
       "    <tr>\n",
       "      <th>2</th>\n",
       "      <td>f149f542-e935-4870-9734-6b4501eaf614</td>\n",
       "      <td>web</td>\n",
       "      <td>Mozilla/5.0 (X11; CrOS x86_64 8172.45.0) Apple...</td>\n",
       "      <td>2023-03-06T06:12:36</td>\n",
       "    </tr>\n",
       "    <tr>\n",
       "      <th>3</th>\n",
       "      <td>08f0ebd4-950c-4dd9-8e97-b5bdf073eed1</td>\n",
       "      <td>web</td>\n",
       "      <td>Mozilla/5.0 (X11; Ubuntu; Linux x86_64; rv:109...</td>\n",
       "      <td>2023-03-01T20:16:37</td>\n",
       "    </tr>\n",
       "    <tr>\n",
       "      <th>4</th>\n",
       "      <td>08f0ebd4-950c-4dd9-8e97-b5bdf073eed1</td>\n",
       "      <td>web</td>\n",
       "      <td>Mozilla/5.0 (X11; Ubuntu; Linux x86_64; rv:109...</td>\n",
       "      <td>2023-03-05T17:42:47</td>\n",
       "    </tr>\n",
       "  </tbody>\n",
       "</table>\n",
       "</div>"
      ],
      "text/plain": [
       "                                   uuid platform  \\\n",
       "0  1de9ea66-70d3-4a1f-8735-df5ef7697fb9      web   \n",
       "1  f149f542-e935-4870-9734-6b4501eaf614      web   \n",
       "2  f149f542-e935-4870-9734-6b4501eaf614      web   \n",
       "3  08f0ebd4-950c-4dd9-8e97-b5bdf073eed1      web   \n",
       "4  08f0ebd4-950c-4dd9-8e97-b5bdf073eed1      web   \n",
       "\n",
       "                                          user_agent                 date  \n",
       "0  Mozilla/5.0 (Macintosh; Intel Mac OS X 10_11_2...  2023-03-01T13:29:22  \n",
       "1  Mozilla/5.0 (X11; CrOS x86_64 8172.45.0) Apple...  2023-03-01T16:44:28  \n",
       "2  Mozilla/5.0 (X11; CrOS x86_64 8172.45.0) Apple...  2023-03-06T06:12:36  \n",
       "3  Mozilla/5.0 (X11; Ubuntu; Linux x86_64; rv:109...  2023-03-01T20:16:37  \n",
       "4  Mozilla/5.0 (X11; Ubuntu; Linux x86_64; rv:109...  2023-03-05T17:42:47  "
      ]
     },
     "execution_count": 14,
     "metadata": {},
     "output_type": "execute_result"
    }
   ],
   "source": [
    "visits = pd.read_csv('visits_1k.csv')\n",
    "visits.head()"
   ]
  },
  {
   "cell_type": "code",
   "execution_count": 16,
   "id": "705756d2-80bf-4dc5-bd98-8bec62fff90b",
   "metadata": {},
   "outputs": [
    {
     "data": {
      "text/html": [
       "<div>\n",
       "<style scoped>\n",
       "    .dataframe tbody tr th:only-of-type {\n",
       "        vertical-align: middle;\n",
       "    }\n",
       "\n",
       "    .dataframe tbody tr th {\n",
       "        vertical-align: top;\n",
       "    }\n",
       "\n",
       "    .dataframe thead th {\n",
       "        text-align: right;\n",
       "    }\n",
       "</style>\n",
       "<table border=\"1\" class=\"dataframe\">\n",
       "  <thead>\n",
       "    <tr style=\"text-align: right;\">\n",
       "      <th></th>\n",
       "      <th>date</th>\n",
       "      <th>user_id</th>\n",
       "      <th>email</th>\n",
       "      <th>platform</th>\n",
       "      <th>registration_type</th>\n",
       "    </tr>\n",
       "  </thead>\n",
       "  <tbody>\n",
       "    <tr>\n",
       "      <th>0</th>\n",
       "      <td>2023-03-01T00:25:39</td>\n",
       "      <td>8838849</td>\n",
       "      <td>joseph95@example.org</td>\n",
       "      <td>web</td>\n",
       "      <td>google</td>\n",
       "    </tr>\n",
       "    <tr>\n",
       "      <th>1</th>\n",
       "      <td>2023-03-01T14:53:01</td>\n",
       "      <td>8741065</td>\n",
       "      <td>janetsuarez@example.net</td>\n",
       "      <td>web</td>\n",
       "      <td>yandex</td>\n",
       "    </tr>\n",
       "    <tr>\n",
       "      <th>2</th>\n",
       "      <td>2023-03-01T14:27:36</td>\n",
       "      <td>1866654</td>\n",
       "      <td>robert67@example.org</td>\n",
       "      <td>web</td>\n",
       "      <td>google</td>\n",
       "    </tr>\n",
       "    <tr>\n",
       "      <th>3</th>\n",
       "      <td>2023-03-01T02:42:34</td>\n",
       "      <td>1577584</td>\n",
       "      <td>elam@example.net</td>\n",
       "      <td>web</td>\n",
       "      <td>apple</td>\n",
       "    </tr>\n",
       "    <tr>\n",
       "      <th>4</th>\n",
       "      <td>2023-03-01T10:27:14</td>\n",
       "      <td>4765395</td>\n",
       "      <td>stephanie68@example.net</td>\n",
       "      <td>web</td>\n",
       "      <td>yandex</td>\n",
       "    </tr>\n",
       "  </tbody>\n",
       "</table>\n",
       "</div>"
      ],
      "text/plain": [
       "                  date  user_id                    email platform  \\\n",
       "0  2023-03-01T00:25:39  8838849     joseph95@example.org      web   \n",
       "1  2023-03-01T14:53:01  8741065  janetsuarez@example.net      web   \n",
       "2  2023-03-01T14:27:36  1866654     robert67@example.org      web   \n",
       "3  2023-03-01T02:42:34  1577584         elam@example.net      web   \n",
       "4  2023-03-01T10:27:14  4765395  stephanie68@example.net      web   \n",
       "\n",
       "  registration_type  \n",
       "0            google  \n",
       "1            yandex  \n",
       "2            google  \n",
       "3             apple  \n",
       "4            yandex  "
      ]
     },
     "execution_count": 16,
     "metadata": {},
     "output_type": "execute_result"
    }
   ],
   "source": [
    "regs = pd.read_csv('regs_1k.csv')\n",
    "regs.head()"
   ]
  },
  {
   "cell_type": "markdown",
   "id": "d170a026-e306-48ee-98c1-b8201fb2497f",
   "metadata": {},
   "source": [
    "#### Привел дату к дейттайм и сделал дескрайб)"
   ]
  },
  {
   "cell_type": "code",
   "execution_count": 20,
   "id": "7aae86ba-322f-460f-80ec-7b7fb97f17ec",
   "metadata": {},
   "outputs": [],
   "source": [
    "visits['date'] = pd.to_datetime(visits['date'])\n",
    "regs['date'] = pd.to_datetime(regs['date'])"
   ]
  },
  {
   "cell_type": "code",
   "execution_count": 22,
   "id": "6dd536b2-12fb-4e6f-93e5-c6b8816fa902",
   "metadata": {},
   "outputs": [
    {
     "data": {
      "text/html": [
       "<div>\n",
       "<style scoped>\n",
       "    .dataframe tbody tr th:only-of-type {\n",
       "        vertical-align: middle;\n",
       "    }\n",
       "\n",
       "    .dataframe tbody tr th {\n",
       "        vertical-align: top;\n",
       "    }\n",
       "\n",
       "    .dataframe thead th {\n",
       "        text-align: right;\n",
       "    }\n",
       "</style>\n",
       "<table border=\"1\" class=\"dataframe\">\n",
       "  <thead>\n",
       "    <tr style=\"text-align: right;\">\n",
       "      <th></th>\n",
       "      <th>date</th>\n",
       "    </tr>\n",
       "  </thead>\n",
       "  <tbody>\n",
       "    <tr>\n",
       "      <th>count</th>\n",
       "      <td>1000</td>\n",
       "    </tr>\n",
       "    <tr>\n",
       "      <th>mean</th>\n",
       "      <td>2023-03-02 18:25:04.564000256</td>\n",
       "    </tr>\n",
       "    <tr>\n",
       "      <th>min</th>\n",
       "      <td>2023-03-01 00:05:35</td>\n",
       "    </tr>\n",
       "    <tr>\n",
       "      <th>25%</th>\n",
       "      <td>2023-03-01 12:02:27</td>\n",
       "    </tr>\n",
       "    <tr>\n",
       "      <th>50%</th>\n",
       "      <td>2023-03-01 23:28:04.500000</td>\n",
       "    </tr>\n",
       "    <tr>\n",
       "      <th>75%</th>\n",
       "      <td>2023-03-03 21:42:13.249999872</td>\n",
       "    </tr>\n",
       "    <tr>\n",
       "      <th>max</th>\n",
       "      <td>2023-03-07 23:05:08</td>\n",
       "    </tr>\n",
       "  </tbody>\n",
       "</table>\n",
       "</div>"
      ],
      "text/plain": [
       "                                date\n",
       "count                           1000\n",
       "mean   2023-03-02 18:25:04.564000256\n",
       "min              2023-03-01 00:05:35\n",
       "25%              2023-03-01 12:02:27\n",
       "50%       2023-03-01 23:28:04.500000\n",
       "75%    2023-03-03 21:42:13.249999872\n",
       "max              2023-03-07 23:05:08"
      ]
     },
     "execution_count": 22,
     "metadata": {},
     "output_type": "execute_result"
    }
   ],
   "source": [
    "visits.describe()"
   ]
  },
  {
   "cell_type": "code",
   "execution_count": 24,
   "id": "c3419195-730a-4699-9f2e-79a205b5e76a",
   "metadata": {},
   "outputs": [
    {
     "data": {
      "text/html": [
       "<div>\n",
       "<style scoped>\n",
       "    .dataframe tbody tr th:only-of-type {\n",
       "        vertical-align: middle;\n",
       "    }\n",
       "\n",
       "    .dataframe tbody tr th {\n",
       "        vertical-align: top;\n",
       "    }\n",
       "\n",
       "    .dataframe thead th {\n",
       "        text-align: right;\n",
       "    }\n",
       "</style>\n",
       "<table border=\"1\" class=\"dataframe\">\n",
       "  <thead>\n",
       "    <tr style=\"text-align: right;\">\n",
       "      <th></th>\n",
       "      <th>date</th>\n",
       "      <th>user_id</th>\n",
       "    </tr>\n",
       "  </thead>\n",
       "  <tbody>\n",
       "    <tr>\n",
       "      <th>count</th>\n",
       "      <td>1000</td>\n",
       "      <td>1.000000e+03</td>\n",
       "    </tr>\n",
       "    <tr>\n",
       "      <th>mean</th>\n",
       "      <td>2023-03-03 10:59:03.900000</td>\n",
       "      <td>4.488623e+06</td>\n",
       "    </tr>\n",
       "    <tr>\n",
       "      <th>min</th>\n",
       "      <td>2023-03-01 00:12:22</td>\n",
       "      <td>2.236800e+04</td>\n",
       "    </tr>\n",
       "    <tr>\n",
       "      <th>25%</th>\n",
       "      <td>2023-03-02 14:08:57.500000</td>\n",
       "      <td>2.235489e+06</td>\n",
       "    </tr>\n",
       "    <tr>\n",
       "      <th>50%</th>\n",
       "      <td>2023-03-03 10:33:06</td>\n",
       "      <td>4.473044e+06</td>\n",
       "    </tr>\n",
       "    <tr>\n",
       "      <th>75%</th>\n",
       "      <td>2023-03-04 07:32:06.500000</td>\n",
       "      <td>6.779707e+06</td>\n",
       "    </tr>\n",
       "    <tr>\n",
       "      <th>max</th>\n",
       "      <td>2023-03-05 22:04:01</td>\n",
       "      <td>8.881772e+06</td>\n",
       "    </tr>\n",
       "    <tr>\n",
       "      <th>std</th>\n",
       "      <td>NaN</td>\n",
       "      <td>2.620568e+06</td>\n",
       "    </tr>\n",
       "  </tbody>\n",
       "</table>\n",
       "</div>"
      ],
      "text/plain": [
       "                             date       user_id\n",
       "count                        1000  1.000000e+03\n",
       "mean   2023-03-03 10:59:03.900000  4.488623e+06\n",
       "min           2023-03-01 00:12:22  2.236800e+04\n",
       "25%    2023-03-02 14:08:57.500000  2.235489e+06\n",
       "50%           2023-03-03 10:33:06  4.473044e+06\n",
       "75%    2023-03-04 07:32:06.500000  6.779707e+06\n",
       "max           2023-03-05 22:04:01  8.881772e+06\n",
       "std                           NaN  2.620568e+06"
      ]
     },
     "execution_count": 24,
     "metadata": {},
     "output_type": "execute_result"
    }
   ],
   "source": [
    "regs.describe()"
   ]
  },
  {
   "cell_type": "markdown",
   "id": "2cc7a51f-fee2-48de-a78b-d2e28545e6de",
   "metadata": {},
   "source": [
    "## Шаг 2. Получаем данные из АПИ"
   ]
  },
  {
   "cell_type": "code",
   "execution_count": 36,
   "id": "14df2f26-b3d1-4838-b5e1-08a3fbbb230a",
   "metadata": {},
   "outputs": [
    {
     "name": "stdout",
     "output_type": "stream",
     "text": [
      "success\n"
     ]
    }
   ],
   "source": [
    "visits_api = 'https://data-charts-api.hexlet.app/visits?begin=2023-03-01&end=2023-09-01'\n",
    "visits_response = requests.get(visits_api)\n",
    "\n",
    "if visits_response.status_code == 200:\n",
    "    visits_data = visits_response.json()\n",
    "    visits_df = pd.DataFrame(visits_data)\n",
    "    print('success')\n",
    "else:\n",
    "    print(f'error code {visits_response.status_code}')"
   ]
  },
  {
   "cell_type": "code",
   "execution_count": 38,
   "id": "6c93e936-0f79-4d50-8d39-d31727441872",
   "metadata": {},
   "outputs": [
    {
     "name": "stdout",
     "output_type": "stream",
     "text": [
      "success\n"
     ]
    }
   ],
   "source": [
    "regs_api = 'https://data-charts-api.hexlet.app/registrations?begin=2023-03-01&end=2023-09-01'\n",
    "regs_response = requests.get(regs_api)\n",
    "\n",
    "if regs_response.status_code == 200:\n",
    "    regs_data = regs_response.json()\n",
    "    regs_df = pd.DataFrame(regs_data)\n",
    "    print('success')\n",
    "else:\n",
    "    print(f'error code {regs_response.status_code}')"
   ]
  },
  {
   "cell_type": "code",
   "execution_count": 56,
   "id": "06550541-6979-4200-b664-c2f18bdf3a53",
   "metadata": {},
   "outputs": [
    {
     "name": "stdout",
     "output_type": "stream",
     "text": [
      "<class 'pandas.core.frame.DataFrame'>\n",
      "RangeIndex: 263459 entries, 0 to 263458\n",
      "Data columns (total 4 columns):\n",
      " #   Column      Non-Null Count   Dtype \n",
      "---  ------      --------------   ----- \n",
      " 0   datetime    263459 non-null  object\n",
      " 1   platform    263459 non-null  object\n",
      " 2   user_agent  263459 non-null  object\n",
      " 3   visit_id    263459 non-null  object\n",
      "dtypes: object(4)\n",
      "memory usage: 8.0+ MB\n"
     ]
    }
   ],
   "source": [
    "visits_df.info()"
   ]
  },
  {
   "cell_type": "code",
   "execution_count": 67,
   "id": "9f2ba869-8b78-465d-96e8-8b7857ac553a",
   "metadata": {},
   "outputs": [
    {
     "data": {
      "text/html": [
       "<div>\n",
       "<style scoped>\n",
       "    .dataframe tbody tr th:only-of-type {\n",
       "        vertical-align: middle;\n",
       "    }\n",
       "\n",
       "    .dataframe tbody tr th {\n",
       "        vertical-align: top;\n",
       "    }\n",
       "\n",
       "    .dataframe thead th {\n",
       "        text-align: right;\n",
       "    }\n",
       "</style>\n",
       "<table border=\"1\" class=\"dataframe\">\n",
       "  <thead>\n",
       "    <tr style=\"text-align: right;\">\n",
       "      <th></th>\n",
       "      <th>datetime</th>\n",
       "      <th>platform</th>\n",
       "      <th>user_agent</th>\n",
       "      <th>visit_id</th>\n",
       "    </tr>\n",
       "  </thead>\n",
       "  <tbody>\n",
       "    <tr>\n",
       "      <th>0</th>\n",
       "      <td>Wed, 01 Mar 2023 10:36:22 GMT</td>\n",
       "      <td>web</td>\n",
       "      <td>Mozilla/5.0 (Windows NT 10.0; Win64; x64) Appl...</td>\n",
       "      <td>1de9ea66-70d3-4a1f-8735-df5ef7697fb9</td>\n",
       "    </tr>\n",
       "    <tr>\n",
       "      <th>1</th>\n",
       "      <td>Wed, 01 Mar 2023 06:25:00 GMT</td>\n",
       "      <td>web</td>\n",
       "      <td>Mozilla/5.0 (Windows NT 10.0; WOW64; Trident/7...</td>\n",
       "      <td>f149f542-e935-4870-9734-6b4501eaf614</td>\n",
       "    </tr>\n",
       "    <tr>\n",
       "      <th>2</th>\n",
       "      <td>Wed, 01 Mar 2023 10:26:13 GMT</td>\n",
       "      <td>web</td>\n",
       "      <td>Mozilla/5.0 (Macintosh; Intel Mac OS X 10_11_2...</td>\n",
       "      <td>08f0ebd4-950c-4dd9-8e97-b5bdf073eed1</td>\n",
       "    </tr>\n",
       "    <tr>\n",
       "      <th>3</th>\n",
       "      <td>Wed, 01 Mar 2023 12:33:06 GMT</td>\n",
       "      <td>web</td>\n",
       "      <td>Mozilla/5.0 (Macintosh; Intel Mac OS X 10_15_7...</td>\n",
       "      <td>19322fed-157c-49c6-b16e-2d5cabeb9592</td>\n",
       "    </tr>\n",
       "    <tr>\n",
       "      <th>4</th>\n",
       "      <td>Wed, 01 Mar 2023 01:38:35 GMT</td>\n",
       "      <td>web</td>\n",
       "      <td>Mozilla/5.0 (Windows NT 10.0; Win64; x64) Appl...</td>\n",
       "      <td>04762a22-3c9f-40c9-9ac9-6628c4381836</td>\n",
       "    </tr>\n",
       "  </tbody>\n",
       "</table>\n",
       "</div>"
      ],
      "text/plain": [
       "                        datetime platform  \\\n",
       "0  Wed, 01 Mar 2023 10:36:22 GMT      web   \n",
       "1  Wed, 01 Mar 2023 06:25:00 GMT      web   \n",
       "2  Wed, 01 Mar 2023 10:26:13 GMT      web   \n",
       "3  Wed, 01 Mar 2023 12:33:06 GMT      web   \n",
       "4  Wed, 01 Mar 2023 01:38:35 GMT      web   \n",
       "\n",
       "                                          user_agent  \\\n",
       "0  Mozilla/5.0 (Windows NT 10.0; Win64; x64) Appl...   \n",
       "1  Mozilla/5.0 (Windows NT 10.0; WOW64; Trident/7...   \n",
       "2  Mozilla/5.0 (Macintosh; Intel Mac OS X 10_11_2...   \n",
       "3  Mozilla/5.0 (Macintosh; Intel Mac OS X 10_15_7...   \n",
       "4  Mozilla/5.0 (Windows NT 10.0; Win64; x64) Appl...   \n",
       "\n",
       "                               visit_id  \n",
       "0  1de9ea66-70d3-4a1f-8735-df5ef7697fb9  \n",
       "1  f149f542-e935-4870-9734-6b4501eaf614  \n",
       "2  08f0ebd4-950c-4dd9-8e97-b5bdf073eed1  \n",
       "3  19322fed-157c-49c6-b16e-2d5cabeb9592  \n",
       "4  04762a22-3c9f-40c9-9ac9-6628c4381836  "
      ]
     },
     "execution_count": 67,
     "metadata": {},
     "output_type": "execute_result"
    }
   ],
   "source": [
    "visits_df.head()"
   ]
  },
  {
   "cell_type": "code",
   "execution_count": 58,
   "id": "8a0a2148-c650-424a-8909-e7b045b7e04b",
   "metadata": {},
   "outputs": [
    {
     "name": "stdout",
     "output_type": "stream",
     "text": [
      "<class 'pandas.core.frame.DataFrame'>\n",
      "RangeIndex: 21836 entries, 0 to 21835\n",
      "Data columns (total 5 columns):\n",
      " #   Column             Non-Null Count  Dtype \n",
      "---  ------             --------------  ----- \n",
      " 0   datetime           21836 non-null  object\n",
      " 1   email              21836 non-null  object\n",
      " 2   platform           21836 non-null  object\n",
      " 3   registration_type  21836 non-null  object\n",
      " 4   user_id            21836 non-null  object\n",
      "dtypes: object(5)\n",
      "memory usage: 853.1+ KB\n"
     ]
    }
   ],
   "source": [
    "regs_df.info()"
   ]
  },
  {
   "cell_type": "code",
   "execution_count": 129,
   "id": "9c2664d5-fe41-41c2-97f6-4ebdaa3db7fb",
   "metadata": {},
   "outputs": [
    {
     "data": {
      "text/html": [
       "<div>\n",
       "<style scoped>\n",
       "    .dataframe tbody tr th:only-of-type {\n",
       "        vertical-align: middle;\n",
       "    }\n",
       "\n",
       "    .dataframe tbody tr th {\n",
       "        vertical-align: top;\n",
       "    }\n",
       "\n",
       "    .dataframe thead th {\n",
       "        text-align: right;\n",
       "    }\n",
       "</style>\n",
       "<table border=\"1\" class=\"dataframe\">\n",
       "  <thead>\n",
       "    <tr style=\"text-align: right;\">\n",
       "      <th></th>\n",
       "      <th>datetime</th>\n",
       "      <th>email</th>\n",
       "      <th>platform</th>\n",
       "      <th>registration_type</th>\n",
       "      <th>user_id</th>\n",
       "      <th>date</th>\n",
       "    </tr>\n",
       "  </thead>\n",
       "  <tbody>\n",
       "    <tr>\n",
       "      <th>0</th>\n",
       "      <td>Wed, 01 Mar 2023 07:40:13 GMT</td>\n",
       "      <td>ebyrd@example.org</td>\n",
       "      <td>web</td>\n",
       "      <td>google</td>\n",
       "      <td>2e0f6bb8-b029-4f45-a786-2b53990d37f1</td>\n",
       "      <td>2023-03-01</td>\n",
       "    </tr>\n",
       "    <tr>\n",
       "      <th>1</th>\n",
       "      <td>Wed, 01 Mar 2023 13:14:00 GMT</td>\n",
       "      <td>knightgerald@example.org</td>\n",
       "      <td>web</td>\n",
       "      <td>email</td>\n",
       "      <td>f007f97c-9d8b-48b5-af08-119bb8f6d9b6</td>\n",
       "      <td>2023-03-01</td>\n",
       "    </tr>\n",
       "    <tr>\n",
       "      <th>2</th>\n",
       "      <td>Wed, 01 Mar 2023 03:05:50 GMT</td>\n",
       "      <td>cherylthompson@example.com</td>\n",
       "      <td>web</td>\n",
       "      <td>apple</td>\n",
       "      <td>24ff46ae-32b3-4a74-8f27-7cf0b8f32f15</td>\n",
       "      <td>2023-03-01</td>\n",
       "    </tr>\n",
       "    <tr>\n",
       "      <th>3</th>\n",
       "      <td>Wed, 01 Mar 2023 00:04:47 GMT</td>\n",
       "      <td>halldavid@example.org</td>\n",
       "      <td>web</td>\n",
       "      <td>email</td>\n",
       "      <td>3e9914e1-5d73-4c23-b25d-b59a3aeb2b60</td>\n",
       "      <td>2023-03-01</td>\n",
       "    </tr>\n",
       "    <tr>\n",
       "      <th>4</th>\n",
       "      <td>Wed, 01 Mar 2023 18:31:52 GMT</td>\n",
       "      <td>denise86@example.net</td>\n",
       "      <td>web</td>\n",
       "      <td>google</td>\n",
       "      <td>27f875fc-f8ce-4aeb-8722-0ecb283d0760</td>\n",
       "      <td>2023-03-01</td>\n",
       "    </tr>\n",
       "  </tbody>\n",
       "</table>\n",
       "</div>"
      ],
      "text/plain": [
       "                        datetime                       email platform  \\\n",
       "0  Wed, 01 Mar 2023 07:40:13 GMT           ebyrd@example.org      web   \n",
       "1  Wed, 01 Mar 2023 13:14:00 GMT    knightgerald@example.org      web   \n",
       "2  Wed, 01 Mar 2023 03:05:50 GMT  cherylthompson@example.com      web   \n",
       "3  Wed, 01 Mar 2023 00:04:47 GMT       halldavid@example.org      web   \n",
       "4  Wed, 01 Mar 2023 18:31:52 GMT        denise86@example.net      web   \n",
       "\n",
       "  registration_type                               user_id        date  \n",
       "0            google  2e0f6bb8-b029-4f45-a786-2b53990d37f1  2023-03-01  \n",
       "1             email  f007f97c-9d8b-48b5-af08-119bb8f6d9b6  2023-03-01  \n",
       "2             apple  24ff46ae-32b3-4a74-8f27-7cf0b8f32f15  2023-03-01  \n",
       "3             email  3e9914e1-5d73-4c23-b25d-b59a3aeb2b60  2023-03-01  \n",
       "4            google  27f875fc-f8ce-4aeb-8722-0ecb283d0760  2023-03-01  "
      ]
     },
     "execution_count": 129,
     "metadata": {},
     "output_type": "execute_result"
    }
   ],
   "source": [
    "regs_df.head()"
   ]
  },
  {
   "cell_type": "markdown",
   "id": "3cb331ac-439b-4b1c-8231-6ae1d25c88ad",
   "metadata": {},
   "source": [
    "### Выгрузка прошла успешно\n",
    "Данные загрузились корректно"
   ]
  },
  {
   "cell_type": "markdown",
   "id": "2a27efd7-70bb-4272-bc9d-68d4dbff009e",
   "metadata": {},
   "source": [
    "## Шаг 3. Рассчет метрик."
   ]
  },
  {
   "cell_type": "markdown",
   "id": "5aaa3ca1-c9f0-44d8-90c7-1e3e99976f86",
   "metadata": {},
   "source": [
    "#### Приведем дату к формату дейттайм и добавим столбец с датой"
   ]
  },
  {
   "cell_type": "code",
   "execution_count": 83,
   "id": "18a943e1-4ba9-40a7-a310-e5d435ee0ef4",
   "metadata": {},
   "outputs": [],
   "source": [
    "regs_df['date'] = pd.to_datetime(regs_df['datetime']).dt.date\n",
    "visits_df['date'] = pd.to_datetime(visits_df['datetime']).dt.date"
   ]
  },
  {
   "cell_type": "markdown",
   "id": "bef08e21-7c46-486d-b482-ba6472fa5024",
   "metadata": {},
   "source": [
    "### Фильруем от ботов"
   ]
  },
  {
   "cell_type": "code",
   "execution_count": 137,
   "id": "5338f05a-66cc-490c-9bf7-870a8337bf63",
   "metadata": {},
   "outputs": [
    {
     "data": {
      "text/html": [
       "<div>\n",
       "<style scoped>\n",
       "    .dataframe tbody tr th:only-of-type {\n",
       "        vertical-align: middle;\n",
       "    }\n",
       "\n",
       "    .dataframe tbody tr th {\n",
       "        vertical-align: top;\n",
       "    }\n",
       "\n",
       "    .dataframe thead th {\n",
       "        text-align: right;\n",
       "    }\n",
       "</style>\n",
       "<table border=\"1\" class=\"dataframe\">\n",
       "  <thead>\n",
       "    <tr style=\"text-align: right;\">\n",
       "      <th></th>\n",
       "      <th>datetime</th>\n",
       "      <th>platform</th>\n",
       "      <th>user_agent</th>\n",
       "      <th>visit_id</th>\n",
       "      <th>date</th>\n",
       "    </tr>\n",
       "  </thead>\n",
       "  <tbody>\n",
       "    <tr>\n",
       "      <th>0</th>\n",
       "      <td>Wed, 01 Mar 2023 10:36:22 GMT</td>\n",
       "      <td>web</td>\n",
       "      <td>Mozilla/5.0 (Windows NT 10.0; Win64; x64) Appl...</td>\n",
       "      <td>1de9ea66-70d3-4a1f-8735-df5ef7697fb9</td>\n",
       "      <td>2023-03-01</td>\n",
       "    </tr>\n",
       "    <tr>\n",
       "      <th>1</th>\n",
       "      <td>Wed, 01 Mar 2023 06:25:00 GMT</td>\n",
       "      <td>web</td>\n",
       "      <td>Mozilla/5.0 (Windows NT 10.0; WOW64; Trident/7...</td>\n",
       "      <td>f149f542-e935-4870-9734-6b4501eaf614</td>\n",
       "      <td>2023-03-01</td>\n",
       "    </tr>\n",
       "    <tr>\n",
       "      <th>2</th>\n",
       "      <td>Wed, 01 Mar 2023 10:26:13 GMT</td>\n",
       "      <td>web</td>\n",
       "      <td>Mozilla/5.0 (Macintosh; Intel Mac OS X 10_11_2...</td>\n",
       "      <td>08f0ebd4-950c-4dd9-8e97-b5bdf073eed1</td>\n",
       "      <td>2023-03-01</td>\n",
       "    </tr>\n",
       "    <tr>\n",
       "      <th>3</th>\n",
       "      <td>Wed, 01 Mar 2023 12:33:06 GMT</td>\n",
       "      <td>web</td>\n",
       "      <td>Mozilla/5.0 (Macintosh; Intel Mac OS X 10_15_7...</td>\n",
       "      <td>19322fed-157c-49c6-b16e-2d5cabeb9592</td>\n",
       "      <td>2023-03-01</td>\n",
       "    </tr>\n",
       "    <tr>\n",
       "      <th>4</th>\n",
       "      <td>Wed, 01 Mar 2023 01:38:35 GMT</td>\n",
       "      <td>web</td>\n",
       "      <td>Mozilla/5.0 (Windows NT 10.0; Win64; x64) Appl...</td>\n",
       "      <td>04762a22-3c9f-40c9-9ac9-6628c4381836</td>\n",
       "      <td>2023-03-01</td>\n",
       "    </tr>\n",
       "  </tbody>\n",
       "</table>\n",
       "</div>"
      ],
      "text/plain": [
       "                        datetime platform  \\\n",
       "0  Wed, 01 Mar 2023 10:36:22 GMT      web   \n",
       "1  Wed, 01 Mar 2023 06:25:00 GMT      web   \n",
       "2  Wed, 01 Mar 2023 10:26:13 GMT      web   \n",
       "3  Wed, 01 Mar 2023 12:33:06 GMT      web   \n",
       "4  Wed, 01 Mar 2023 01:38:35 GMT      web   \n",
       "\n",
       "                                          user_agent  \\\n",
       "0  Mozilla/5.0 (Windows NT 10.0; Win64; x64) Appl...   \n",
       "1  Mozilla/5.0 (Windows NT 10.0; WOW64; Trident/7...   \n",
       "2  Mozilla/5.0 (Macintosh; Intel Mac OS X 10_11_2...   \n",
       "3  Mozilla/5.0 (Macintosh; Intel Mac OS X 10_15_7...   \n",
       "4  Mozilla/5.0 (Windows NT 10.0; Win64; x64) Appl...   \n",
       "\n",
       "                               visit_id        date  \n",
       "0  1de9ea66-70d3-4a1f-8735-df5ef7697fb9  2023-03-01  \n",
       "1  f149f542-e935-4870-9734-6b4501eaf614  2023-03-01  \n",
       "2  08f0ebd4-950c-4dd9-8e97-b5bdf073eed1  2023-03-01  \n",
       "3  19322fed-157c-49c6-b16e-2d5cabeb9592  2023-03-01  \n",
       "4  04762a22-3c9f-40c9-9ac9-6628c4381836  2023-03-01  "
      ]
     },
     "execution_count": 137,
     "metadata": {},
     "output_type": "execute_result"
    }
   ],
   "source": [
    "visits_df = visits_df[~visits_df['user_agent'].str.contains('bot', case=False, na=False)]\n",
    "visits_df.head()"
   ]
  },
  {
   "cell_type": "markdown",
   "id": "28d4f243-7a39-41ca-bcd0-bf74cf6ecb1e",
   "metadata": {},
   "source": [
    "### Группируем виситы и регистрации по дате и платформе. Визиты, считаем только уникальных пользователей за день"
   ]
  },
  {
   "cell_type": "code",
   "execution_count": 140,
   "id": "97228d74-3320-47c4-a670-604f2d37cad4",
   "metadata": {},
   "outputs": [
    {
     "data": {
      "text/html": [
       "<div>\n",
       "<style scoped>\n",
       "    .dataframe tbody tr th:only-of-type {\n",
       "        vertical-align: middle;\n",
       "    }\n",
       "\n",
       "    .dataframe tbody tr th {\n",
       "        vertical-align: top;\n",
       "    }\n",
       "\n",
       "    .dataframe thead th {\n",
       "        text-align: right;\n",
       "    }\n",
       "</style>\n",
       "<table border=\"1\" class=\"dataframe\">\n",
       "  <thead>\n",
       "    <tr style=\"text-align: right;\">\n",
       "      <th></th>\n",
       "      <th>date_group</th>\n",
       "      <th>platform</th>\n",
       "      <th>visits</th>\n",
       "    </tr>\n",
       "  </thead>\n",
       "  <tbody>\n",
       "    <tr>\n",
       "      <th>0</th>\n",
       "      <td>2023-03-01</td>\n",
       "      <td>android</td>\n",
       "      <td>75</td>\n",
       "    </tr>\n",
       "    <tr>\n",
       "      <th>1</th>\n",
       "      <td>2023-03-01</td>\n",
       "      <td>ios</td>\n",
       "      <td>22</td>\n",
       "    </tr>\n",
       "    <tr>\n",
       "      <th>2</th>\n",
       "      <td>2023-03-01</td>\n",
       "      <td>web</td>\n",
       "      <td>815</td>\n",
       "    </tr>\n",
       "    <tr>\n",
       "      <th>3</th>\n",
       "      <td>2023-03-02</td>\n",
       "      <td>android</td>\n",
       "      <td>67</td>\n",
       "    </tr>\n",
       "    <tr>\n",
       "      <th>4</th>\n",
       "      <td>2023-03-02</td>\n",
       "      <td>ios</td>\n",
       "      <td>31</td>\n",
       "    </tr>\n",
       "  </tbody>\n",
       "</table>\n",
       "</div>"
      ],
      "text/plain": [
       "   date_group platform  visits\n",
       "0  2023-03-01  android      75\n",
       "1  2023-03-01      ios      22\n",
       "2  2023-03-01      web     815\n",
       "3  2023-03-02  android      67\n",
       "4  2023-03-02      ios      31"
      ]
     },
     "execution_count": 140,
     "metadata": {},
     "output_type": "execute_result"
    }
   ],
   "source": [
    "agg_visits = visits_df.groupby(['date', 'platform'])['visit_id'].nunique().reset_index()\n",
    "agg_visits.columns = ['date_group', 'platform', 'visits']\n",
    "agg_visits.head()"
   ]
  },
  {
   "cell_type": "code",
   "execution_count": 133,
   "id": "322e55e6-c071-4230-b2bc-9636c664f55b",
   "metadata": {},
   "outputs": [
    {
     "data": {
      "text/html": [
       "<div>\n",
       "<style scoped>\n",
       "    .dataframe tbody tr th:only-of-type {\n",
       "        vertical-align: middle;\n",
       "    }\n",
       "\n",
       "    .dataframe tbody tr th {\n",
       "        vertical-align: top;\n",
       "    }\n",
       "\n",
       "    .dataframe thead th {\n",
       "        text-align: right;\n",
       "    }\n",
       "</style>\n",
       "<table border=\"1\" class=\"dataframe\">\n",
       "  <thead>\n",
       "    <tr style=\"text-align: right;\">\n",
       "      <th></th>\n",
       "      <th>date_group</th>\n",
       "      <th>platform</th>\n",
       "      <th>registrations</th>\n",
       "    </tr>\n",
       "  </thead>\n",
       "  <tbody>\n",
       "    <tr>\n",
       "      <th>0</th>\n",
       "      <td>2023-03-01</td>\n",
       "      <td>android</td>\n",
       "      <td>61</td>\n",
       "    </tr>\n",
       "    <tr>\n",
       "      <th>1</th>\n",
       "      <td>2023-03-01</td>\n",
       "      <td>ios</td>\n",
       "      <td>18</td>\n",
       "    </tr>\n",
       "    <tr>\n",
       "      <th>2</th>\n",
       "      <td>2023-03-01</td>\n",
       "      <td>web</td>\n",
       "      <td>8</td>\n",
       "    </tr>\n",
       "    <tr>\n",
       "      <th>3</th>\n",
       "      <td>2023-03-02</td>\n",
       "      <td>android</td>\n",
       "      <td>59</td>\n",
       "    </tr>\n",
       "    <tr>\n",
       "      <th>4</th>\n",
       "      <td>2023-03-02</td>\n",
       "      <td>ios</td>\n",
       "      <td>24</td>\n",
       "    </tr>\n",
       "  </tbody>\n",
       "</table>\n",
       "</div>"
      ],
      "text/plain": [
       "   date_group platform  registrations\n",
       "0  2023-03-01  android             61\n",
       "1  2023-03-01      ios             18\n",
       "2  2023-03-01      web              8\n",
       "3  2023-03-02  android             59\n",
       "4  2023-03-02      ios             24"
      ]
     },
     "execution_count": 133,
     "metadata": {},
     "output_type": "execute_result"
    }
   ],
   "source": [
    "agg_regs = regs_df.groupby(['date', 'platform'])['user_id'].nunique().reset_index()\n",
    "agg_regs.columns = ['date_group', 'platform', 'registrations']\n",
    "agg_regs.head()"
   ]
  },
  {
   "cell_type": "markdown",
   "id": "5076e606-769d-4824-8827-cf2bbafadf88",
   "metadata": {},
   "source": [
    "### Мерджим визиты и регистрации по полям date_group и platform"
   ]
  },
  {
   "cell_type": "code",
   "execution_count": 144,
   "id": "23b4e216-23de-4131-85d5-3afd768f57d3",
   "metadata": {},
   "outputs": [],
   "source": [
    "agg_total = pd.merge(agg_visits,\n",
    "                     agg_regs,\n",
    "                     left_on = ['date_group', 'platform'],\n",
    "                     right_on = ['date_group', 'platform'],\n",
    "                     how = 'left')"
   ]
  },
  {
   "cell_type": "code",
   "execution_count": 148,
   "id": "e74f8564-168a-4c5f-9d62-be631b6e7a27",
   "metadata": {},
   "outputs": [
    {
     "data": {
      "text/html": [
       "<div>\n",
       "<style scoped>\n",
       "    .dataframe tbody tr th:only-of-type {\n",
       "        vertical-align: middle;\n",
       "    }\n",
       "\n",
       "    .dataframe tbody tr th {\n",
       "        vertical-align: top;\n",
       "    }\n",
       "\n",
       "    .dataframe thead th {\n",
       "        text-align: right;\n",
       "    }\n",
       "</style>\n",
       "<table border=\"1\" class=\"dataframe\">\n",
       "  <thead>\n",
       "    <tr style=\"text-align: right;\">\n",
       "      <th></th>\n",
       "      <th>date_group</th>\n",
       "      <th>platform</th>\n",
       "      <th>visits</th>\n",
       "      <th>registrations</th>\n",
       "    </tr>\n",
       "  </thead>\n",
       "  <tbody>\n",
       "    <tr>\n",
       "      <th>0</th>\n",
       "      <td>2023-03-01</td>\n",
       "      <td>android</td>\n",
       "      <td>75</td>\n",
       "      <td>61</td>\n",
       "    </tr>\n",
       "    <tr>\n",
       "      <th>1</th>\n",
       "      <td>2023-03-01</td>\n",
       "      <td>ios</td>\n",
       "      <td>22</td>\n",
       "      <td>18</td>\n",
       "    </tr>\n",
       "    <tr>\n",
       "      <th>2</th>\n",
       "      <td>2023-03-01</td>\n",
       "      <td>web</td>\n",
       "      <td>815</td>\n",
       "      <td>8</td>\n",
       "    </tr>\n",
       "    <tr>\n",
       "      <th>3</th>\n",
       "      <td>2023-03-02</td>\n",
       "      <td>android</td>\n",
       "      <td>67</td>\n",
       "      <td>59</td>\n",
       "    </tr>\n",
       "    <tr>\n",
       "      <th>4</th>\n",
       "      <td>2023-03-02</td>\n",
       "      <td>ios</td>\n",
       "      <td>31</td>\n",
       "      <td>24</td>\n",
       "    </tr>\n",
       "  </tbody>\n",
       "</table>\n",
       "</div>"
      ],
      "text/plain": [
       "   date_group platform  visits  registrations\n",
       "0  2023-03-01  android      75             61\n",
       "1  2023-03-01      ios      22             18\n",
       "2  2023-03-01      web     815              8\n",
       "3  2023-03-02  android      67             59\n",
       "4  2023-03-02      ios      31             24"
      ]
     },
     "execution_count": 148,
     "metadata": {},
     "output_type": "execute_result"
    }
   ],
   "source": [
    "agg_total.head()"
   ]
  },
  {
   "cell_type": "markdown",
   "id": "8e953f3c-09b8-4472-9e4f-714feb1f2b68",
   "metadata": {},
   "source": [
    "### Считаем столбец конверсии и округляем до 2-ух знаков"
   ]
  },
  {
   "cell_type": "code",
   "execution_count": 152,
   "id": "1066d2ae-1540-48b2-a93d-8c99183b304b",
   "metadata": {},
   "outputs": [
    {
     "data": {
      "text/html": [
       "<div>\n",
       "<style scoped>\n",
       "    .dataframe tbody tr th:only-of-type {\n",
       "        vertical-align: middle;\n",
       "    }\n",
       "\n",
       "    .dataframe tbody tr th {\n",
       "        vertical-align: top;\n",
       "    }\n",
       "\n",
       "    .dataframe thead th {\n",
       "        text-align: right;\n",
       "    }\n",
       "</style>\n",
       "<table border=\"1\" class=\"dataframe\">\n",
       "  <thead>\n",
       "    <tr style=\"text-align: right;\">\n",
       "      <th></th>\n",
       "      <th>date_group</th>\n",
       "      <th>platform</th>\n",
       "      <th>visits</th>\n",
       "      <th>registrations</th>\n",
       "      <th>conversion</th>\n",
       "    </tr>\n",
       "  </thead>\n",
       "  <tbody>\n",
       "    <tr>\n",
       "      <th>0</th>\n",
       "      <td>2023-03-01</td>\n",
       "      <td>android</td>\n",
       "      <td>75</td>\n",
       "      <td>61</td>\n",
       "      <td>0.81</td>\n",
       "    </tr>\n",
       "    <tr>\n",
       "      <th>1</th>\n",
       "      <td>2023-03-01</td>\n",
       "      <td>ios</td>\n",
       "      <td>22</td>\n",
       "      <td>18</td>\n",
       "      <td>0.82</td>\n",
       "    </tr>\n",
       "    <tr>\n",
       "      <th>2</th>\n",
       "      <td>2023-03-01</td>\n",
       "      <td>web</td>\n",
       "      <td>815</td>\n",
       "      <td>8</td>\n",
       "      <td>0.01</td>\n",
       "    </tr>\n",
       "    <tr>\n",
       "      <th>3</th>\n",
       "      <td>2023-03-02</td>\n",
       "      <td>android</td>\n",
       "      <td>67</td>\n",
       "      <td>59</td>\n",
       "      <td>0.88</td>\n",
       "    </tr>\n",
       "    <tr>\n",
       "      <th>4</th>\n",
       "      <td>2023-03-02</td>\n",
       "      <td>ios</td>\n",
       "      <td>31</td>\n",
       "      <td>24</td>\n",
       "      <td>0.77</td>\n",
       "    </tr>\n",
       "  </tbody>\n",
       "</table>\n",
       "</div>"
      ],
      "text/plain": [
       "   date_group platform  visits  registrations  conversion\n",
       "0  2023-03-01  android      75             61        0.81\n",
       "1  2023-03-01      ios      22             18        0.82\n",
       "2  2023-03-01      web     815              8        0.01\n",
       "3  2023-03-02  android      67             59        0.88\n",
       "4  2023-03-02      ios      31             24        0.77"
      ]
     },
     "execution_count": 152,
     "metadata": {},
     "output_type": "execute_result"
    }
   ],
   "source": [
    "agg_total['conversion'] = round(agg_total['registrations'] / agg_total['visits'], 2)\n",
    "agg_total.head()"
   ]
  },
  {
   "cell_type": "markdown",
   "id": "f9a986b4-6ad3-4ff3-897d-d8e4c830eebd",
   "metadata": {},
   "source": [
    "### Сохраняем файл"
   ]
  },
  {
   "cell_type": "code",
   "execution_count": 154,
   "id": "991a09d9-34b2-462c-b7cf-28d21e6fe665",
   "metadata": {},
   "outputs": [],
   "source": [
    "agg_total.to_json('conversion.json')"
   ]
  },
  {
   "cell_type": "markdown",
   "id": "ff78c2d2-2105-4dc6-b724-771611fdf540",
   "metadata": {},
   "source": [
    "## Шаг 4. Добавляем рекламы.\n",
    "\n",
    "Для начала подгружаем csv "
   ]
  },
  {
   "cell_type": "code",
   "execution_count": 170,
   "id": "bb4d0516-f81a-4bb8-8b69-0e8b6753567e",
   "metadata": {},
   "outputs": [
    {
     "data": {
      "text/html": [
       "<div>\n",
       "<style scoped>\n",
       "    .dataframe tbody tr th:only-of-type {\n",
       "        vertical-align: middle;\n",
       "    }\n",
       "\n",
       "    .dataframe tbody tr th {\n",
       "        vertical-align: top;\n",
       "    }\n",
       "\n",
       "    .dataframe thead th {\n",
       "        text-align: right;\n",
       "    }\n",
       "</style>\n",
       "<table border=\"1\" class=\"dataframe\">\n",
       "  <thead>\n",
       "    <tr style=\"text-align: right;\">\n",
       "      <th></th>\n",
       "      <th>date</th>\n",
       "      <th>utm_source</th>\n",
       "      <th>utm_medium</th>\n",
       "      <th>utm_campaign</th>\n",
       "      <th>cost</th>\n",
       "    </tr>\n",
       "  </thead>\n",
       "  <tbody>\n",
       "    <tr>\n",
       "      <th>0</th>\n",
       "      <td>2023-03-01T10:54:41</td>\n",
       "      <td>google</td>\n",
       "      <td>cpc</td>\n",
       "      <td>advanced_algorithms_series</td>\n",
       "      <td>212</td>\n",
       "    </tr>\n",
       "    <tr>\n",
       "      <th>1</th>\n",
       "      <td>2023-03-02T10:32:35</td>\n",
       "      <td>google</td>\n",
       "      <td>cpc</td>\n",
       "      <td>advanced_algorithms_series</td>\n",
       "      <td>252</td>\n",
       "    </tr>\n",
       "    <tr>\n",
       "      <th>2</th>\n",
       "      <td>2023-03-03T19:21:40</td>\n",
       "      <td>google</td>\n",
       "      <td>cpc</td>\n",
       "      <td>advanced_algorithms_series</td>\n",
       "      <td>202</td>\n",
       "    </tr>\n",
       "    <tr>\n",
       "      <th>3</th>\n",
       "      <td>2023-03-04T17:52:04</td>\n",
       "      <td>google</td>\n",
       "      <td>cpc</td>\n",
       "      <td>advanced_algorithms_series</td>\n",
       "      <td>223</td>\n",
       "    </tr>\n",
       "    <tr>\n",
       "      <th>4</th>\n",
       "      <td>2023-03-05T05:35:13</td>\n",
       "      <td>google</td>\n",
       "      <td>cpc</td>\n",
       "      <td>advanced_algorithms_series</td>\n",
       "      <td>265</td>\n",
       "    </tr>\n",
       "  </tbody>\n",
       "</table>\n",
       "</div>"
      ],
      "text/plain": [
       "                  date utm_source utm_medium                utm_campaign  cost\n",
       "0  2023-03-01T10:54:41     google        cpc  advanced_algorithms_series   212\n",
       "1  2023-03-02T10:32:35     google        cpc  advanced_algorithms_series   252\n",
       "2  2023-03-03T19:21:40     google        cpc  advanced_algorithms_series   202\n",
       "3  2023-03-04T17:52:04     google        cpc  advanced_algorithms_series   223\n",
       "4  2023-03-05T05:35:13     google        cpc  advanced_algorithms_series   265"
      ]
     },
     "execution_count": 170,
     "metadata": {},
     "output_type": "execute_result"
    }
   ],
   "source": [
    "ads_df = pd.read_csv('ads.csv')\n",
    "ads_df.head()"
   ]
  },
  {
   "cell_type": "markdown",
   "id": "360680ef-d97c-4b31-a35d-9bdb3d3a81d3",
   "metadata": {},
   "source": [
    "### Приведем столбец date к формату datetime и добавим отдельный столбец с датой для удобства"
   ]
  },
  {
   "cell_type": "code",
   "execution_count": 178,
   "id": "26d32817-1715-4edd-adf6-b5e2c8202431",
   "metadata": {},
   "outputs": [
    {
     "data": {
      "text/html": [
       "<div>\n",
       "<style scoped>\n",
       "    .dataframe tbody tr th:only-of-type {\n",
       "        vertical-align: middle;\n",
       "    }\n",
       "\n",
       "    .dataframe tbody tr th {\n",
       "        vertical-align: top;\n",
       "    }\n",
       "\n",
       "    .dataframe thead th {\n",
       "        text-align: right;\n",
       "    }\n",
       "</style>\n",
       "<table border=\"1\" class=\"dataframe\">\n",
       "  <thead>\n",
       "    <tr style=\"text-align: right;\">\n",
       "      <th></th>\n",
       "      <th>date</th>\n",
       "      <th>utm_source</th>\n",
       "      <th>utm_medium</th>\n",
       "      <th>utm_campaign</th>\n",
       "      <th>cost</th>\n",
       "      <th>date_dt</th>\n",
       "    </tr>\n",
       "  </thead>\n",
       "  <tbody>\n",
       "    <tr>\n",
       "      <th>0</th>\n",
       "      <td>2023-03-01 10:54:41</td>\n",
       "      <td>google</td>\n",
       "      <td>cpc</td>\n",
       "      <td>advanced_algorithms_series</td>\n",
       "      <td>212</td>\n",
       "      <td>2023-03-01</td>\n",
       "    </tr>\n",
       "    <tr>\n",
       "      <th>1</th>\n",
       "      <td>2023-03-02 10:32:35</td>\n",
       "      <td>google</td>\n",
       "      <td>cpc</td>\n",
       "      <td>advanced_algorithms_series</td>\n",
       "      <td>252</td>\n",
       "      <td>2023-03-02</td>\n",
       "    </tr>\n",
       "    <tr>\n",
       "      <th>2</th>\n",
       "      <td>2023-03-03 19:21:40</td>\n",
       "      <td>google</td>\n",
       "      <td>cpc</td>\n",
       "      <td>advanced_algorithms_series</td>\n",
       "      <td>202</td>\n",
       "      <td>2023-03-03</td>\n",
       "    </tr>\n",
       "    <tr>\n",
       "      <th>3</th>\n",
       "      <td>2023-03-04 17:52:04</td>\n",
       "      <td>google</td>\n",
       "      <td>cpc</td>\n",
       "      <td>advanced_algorithms_series</td>\n",
       "      <td>223</td>\n",
       "      <td>2023-03-04</td>\n",
       "    </tr>\n",
       "    <tr>\n",
       "      <th>4</th>\n",
       "      <td>2023-03-05 05:35:13</td>\n",
       "      <td>google</td>\n",
       "      <td>cpc</td>\n",
       "      <td>advanced_algorithms_series</td>\n",
       "      <td>265</td>\n",
       "      <td>2023-03-05</td>\n",
       "    </tr>\n",
       "  </tbody>\n",
       "</table>\n",
       "</div>"
      ],
      "text/plain": [
       "                 date utm_source utm_medium                utm_campaign  cost  \\\n",
       "0 2023-03-01 10:54:41     google        cpc  advanced_algorithms_series   212   \n",
       "1 2023-03-02 10:32:35     google        cpc  advanced_algorithms_series   252   \n",
       "2 2023-03-03 19:21:40     google        cpc  advanced_algorithms_series   202   \n",
       "3 2023-03-04 17:52:04     google        cpc  advanced_algorithms_series   223   \n",
       "4 2023-03-05 05:35:13     google        cpc  advanced_algorithms_series   265   \n",
       "\n",
       "      date_dt  \n",
       "0  2023-03-01  \n",
       "1  2023-03-02  \n",
       "2  2023-03-03  \n",
       "3  2023-03-04  \n",
       "4  2023-03-05  "
      ]
     },
     "execution_count": 178,
     "metadata": {},
     "output_type": "execute_result"
    }
   ],
   "source": [
    "ads_df['date'] = pd.to_datetime(ads_df['date'])\n",
    "ads_df['date_dt'] = ads_df['date'].dt.date\n",
    "ads_df.head()"
   ]
  },
  {
   "cell_type": "code",
   "execution_count": 180,
   "id": "ab4541f2-f8f3-4052-8062-376a8e5cb71f",
   "metadata": {},
   "outputs": [
    {
     "data": {
      "text/plain": [
       "array(['google', 'yandex', 'vk'], dtype=object)"
      ]
     },
     "execution_count": 180,
     "metadata": {},
     "output_type": "execute_result"
    }
   ],
   "source": [
    "ads_df['utm_source'].unique()"
   ]
  },
  {
   "cell_type": "markdown",
   "id": "006bbbe0-5c4a-4515-b627-81409e98dd68",
   "metadata": {},
   "source": [
    " ### Группируем данные, для последующего анализа"
   ]
  },
  {
   "cell_type": "code",
   "execution_count": 190,
   "id": "df8246e2-85f9-421a-a4a2-16db89d47795",
   "metadata": {},
   "outputs": [
    {
     "data": {
      "text/html": [
       "<div>\n",
       "<style scoped>\n",
       "    .dataframe tbody tr th:only-of-type {\n",
       "        vertical-align: middle;\n",
       "    }\n",
       "\n",
       "    .dataframe tbody tr th {\n",
       "        vertical-align: top;\n",
       "    }\n",
       "\n",
       "    .dataframe thead th {\n",
       "        text-align: right;\n",
       "    }\n",
       "</style>\n",
       "<table border=\"1\" class=\"dataframe\">\n",
       "  <thead>\n",
       "    <tr style=\"text-align: right;\">\n",
       "      <th></th>\n",
       "      <th>date_group</th>\n",
       "      <th>utm_campaign</th>\n",
       "      <th>cost</th>\n",
       "    </tr>\n",
       "  </thead>\n",
       "  <tbody>\n",
       "    <tr>\n",
       "      <th>0</th>\n",
       "      <td>2023-03-01</td>\n",
       "      <td>advanced_algorithms_series</td>\n",
       "      <td>212</td>\n",
       "    </tr>\n",
       "    <tr>\n",
       "      <th>1</th>\n",
       "      <td>2023-03-02</td>\n",
       "      <td>advanced_algorithms_series</td>\n",
       "      <td>252</td>\n",
       "    </tr>\n",
       "    <tr>\n",
       "      <th>2</th>\n",
       "      <td>2023-03-03</td>\n",
       "      <td>advanced_algorithms_series</td>\n",
       "      <td>202</td>\n",
       "    </tr>\n",
       "    <tr>\n",
       "      <th>3</th>\n",
       "      <td>2023-03-04</td>\n",
       "      <td>advanced_algorithms_series</td>\n",
       "      <td>223</td>\n",
       "    </tr>\n",
       "    <tr>\n",
       "      <th>4</th>\n",
       "      <td>2023-03-05</td>\n",
       "      <td>advanced_algorithms_series</td>\n",
       "      <td>265</td>\n",
       "    </tr>\n",
       "  </tbody>\n",
       "</table>\n",
       "</div>"
      ],
      "text/plain": [
       "   date_group                utm_campaign  cost\n",
       "0  2023-03-01  advanced_algorithms_series   212\n",
       "1  2023-03-02  advanced_algorithms_series   252\n",
       "2  2023-03-03  advanced_algorithms_series   202\n",
       "3  2023-03-04  advanced_algorithms_series   223\n",
       "4  2023-03-05  advanced_algorithms_series   265"
      ]
     },
     "execution_count": 190,
     "metadata": {},
     "output_type": "execute_result"
    }
   ],
   "source": [
    "agg_ads = ads_df.groupby('date_dt').agg({'utm_campaign': 'first', 'cost': 'sum'}).reset_index()\n",
    "agg_ads.columns = ['date_group', 'utm_campaign', 'cost']\n",
    "agg_ads.head()"
   ]
  },
  {
   "cell_type": "code",
   "execution_count": 215,
   "id": "1a3a0983-361f-4a30-bf11-b9662e7dcfbb",
   "metadata": {},
   "outputs": [],
   "source": [
    "agg_conv = agg_total.groupby('date_group').agg({'visits': 'sum', 'registrations': 'sum'})"
   ]
  },
  {
   "cell_type": "code",
   "execution_count": 221,
   "id": "758d650a-09b9-4943-a2e0-cd2f05ea7118",
   "metadata": {},
   "outputs": [],
   "source": [
    "total_with_ads = pd.merge(agg_conv, agg_ads, on='date_group', how='left')"
   ]
  },
  {
   "cell_type": "code",
   "execution_count": 225,
   "id": "e535ff5e-5017-4b48-b390-6f0f539db82b",
   "metadata": {},
   "outputs": [
    {
     "data": {
      "text/html": [
       "<div>\n",
       "<style scoped>\n",
       "    .dataframe tbody tr th:only-of-type {\n",
       "        vertical-align: middle;\n",
       "    }\n",
       "\n",
       "    .dataframe tbody tr th {\n",
       "        vertical-align: top;\n",
       "    }\n",
       "\n",
       "    .dataframe thead th {\n",
       "        text-align: right;\n",
       "    }\n",
       "</style>\n",
       "<table border=\"1\" class=\"dataframe\">\n",
       "  <thead>\n",
       "    <tr style=\"text-align: right;\">\n",
       "      <th></th>\n",
       "      <th>date_group</th>\n",
       "      <th>visits</th>\n",
       "      <th>registrations</th>\n",
       "      <th>utm_campaign</th>\n",
       "      <th>cost</th>\n",
       "    </tr>\n",
       "  </thead>\n",
       "  <tbody>\n",
       "    <tr>\n",
       "      <th>0</th>\n",
       "      <td>2023-03-01</td>\n",
       "      <td>912</td>\n",
       "      <td>87</td>\n",
       "      <td>advanced_algorithms_series</td>\n",
       "      <td>212.0</td>\n",
       "    </tr>\n",
       "    <tr>\n",
       "      <th>1</th>\n",
       "      <td>2023-03-02</td>\n",
       "      <td>1197</td>\n",
       "      <td>106</td>\n",
       "      <td>advanced_algorithms_series</td>\n",
       "      <td>252.0</td>\n",
       "    </tr>\n",
       "    <tr>\n",
       "      <th>2</th>\n",
       "      <td>2023-03-03</td>\n",
       "      <td>1529</td>\n",
       "      <td>107</td>\n",
       "      <td>advanced_algorithms_series</td>\n",
       "      <td>202.0</td>\n",
       "    </tr>\n",
       "    <tr>\n",
       "      <th>3</th>\n",
       "      <td>2023-03-04</td>\n",
       "      <td>1700</td>\n",
       "      <td>159</td>\n",
       "      <td>advanced_algorithms_series</td>\n",
       "      <td>223.0</td>\n",
       "    </tr>\n",
       "    <tr>\n",
       "      <th>4</th>\n",
       "      <td>2023-03-05</td>\n",
       "      <td>1781</td>\n",
       "      <td>115</td>\n",
       "      <td>advanced_algorithms_series</td>\n",
       "      <td>265.0</td>\n",
       "    </tr>\n",
       "  </tbody>\n",
       "</table>\n",
       "</div>"
      ],
      "text/plain": [
       "   date_group  visits  registrations                utm_campaign   cost\n",
       "0  2023-03-01     912             87  advanced_algorithms_series  212.0\n",
       "1  2023-03-02    1197            106  advanced_algorithms_series  252.0\n",
       "2  2023-03-03    1529            107  advanced_algorithms_series  202.0\n",
       "3  2023-03-04    1700            159  advanced_algorithms_series  223.0\n",
       "4  2023-03-05    1781            115  advanced_algorithms_series  265.0"
      ]
     },
     "execution_count": 225,
     "metadata": {},
     "output_type": "execute_result"
    }
   ],
   "source": [
    "total_with_ads.head()"
   ]
  },
  {
   "cell_type": "code",
   "execution_count": 233,
   "id": "e5e8531b-271c-4901-b163-2b212eb068f9",
   "metadata": {},
   "outputs": [
    {
     "name": "stdout",
     "output_type": "stream",
     "text": [
      "<class 'pandas.core.frame.DataFrame'>\n",
      "RangeIndex: 184 entries, 0 to 183\n",
      "Data columns (total 5 columns):\n",
      " #   Column         Non-Null Count  Dtype  \n",
      "---  ------         --------------  -----  \n",
      " 0   date_group     184 non-null    object \n",
      " 1   visits         184 non-null    int64  \n",
      " 2   registrations  184 non-null    int64  \n",
      " 3   utm_campaign   142 non-null    object \n",
      " 4   cost           184 non-null    float64\n",
      "dtypes: float64(1), int64(2), object(2)\n",
      "memory usage: 7.3+ KB\n"
     ]
    }
   ],
   "source": [
    "total_with_ads.info()"
   ]
  },
  {
   "cell_type": "markdown",
   "id": "0584c458-ff24-4c8b-8d8a-b7edbc187a84",
   "metadata": {},
   "source": [
    "### Заполняем пропуски в расходах ноликами)"
   ]
  },
  {
   "cell_type": "code",
   "execution_count": 231,
   "id": "0a277d7f-b7dc-4eea-9bf5-6bee280cff8c",
   "metadata": {},
   "outputs": [],
   "source": [
    "total_with_ads['cost'] = total_with_ads['cost'].fillna(0)"
   ]
  },
  {
   "cell_type": "markdown",
   "id": "d184052c-d4e3-4fcd-b30f-c1e6300f4d2b",
   "metadata": {},
   "source": [
    "### Сохраняем датасет в json файл"
   ]
  },
  {
   "cell_type": "code",
   "execution_count": 238,
   "id": "67c3eed2-bdd0-4b2f-acba-fb8d38d3752a",
   "metadata": {},
   "outputs": [],
   "source": [
    "total_with_ads.to_json('ads.json')"
   ]
  },
  {
   "cell_type": "code",
   "execution_count": null,
   "id": "162fae84-4066-4aaf-ab37-3bbaaf4e7cfe",
   "metadata": {},
   "outputs": [],
   "source": []
  }
 ],
 "metadata": {
  "kernelspec": {
   "display_name": "Python 3 (ipykernel)",
   "language": "python",
   "name": "python3"
  },
  "language_info": {
   "codemirror_mode": {
    "name": "ipython",
    "version": 3
   },
   "file_extension": ".py",
   "mimetype": "text/x-python",
   "name": "python",
   "nbconvert_exporter": "python",
   "pygments_lexer": "ipython3",
   "version": "3.11.7"
  }
 },
 "nbformat": 4,
 "nbformat_minor": 5
}
